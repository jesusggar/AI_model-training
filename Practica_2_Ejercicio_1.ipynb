{
  "cells": [
    {
      "cell_type": "markdown",
      "metadata": {
        "id": "_Q_EO3BvcTcP"
      },
      "source": [
        "# Práctica 2 - Ejercicio 1\n",
        "\n",
        "Asignatura: Programación para la Inteligencia Artificial\n",
        "\n",
        "Alumno: Jesús García Gaitán\n",
        "\n",
        "Este es el primer ejercicio de la Práctica 2 de Programación para la Inteligencia Artificial. Este ejercicio se debe entregar en un cuaderno de Jupyter separado del segundo.\n",
        "\n",
        "El objetivo de este ejercicio es entrenar un modelo neuronal de clasificación usando solo neuronas lineales para el conjunto de datos CIFAR10. El conjunto está incluido en torchvision:\n",
        "\n",
        "https://docs.pytorch.org/vision/main/generated/torchvision.datasets.CIFAR10.html\n",
        "\n",
        "Dado el tamaño del conjunto de datos y los tiempos que puede tardar el entrenamiento, se requiere que el código permita elegir dispositivo de ejecución ('cpu' o 'cuda'). En el caso de elegir la opción de ejecución en GPU (y de haber una GPU disponible), el código deberá realizar el entrenamiento en GPU de manera eficiente.\n",
        "\n",
        "Se espera el uso de las herramientas pertinentes tanto para completar el código como para realizar experimentos de los que se puedan extraer conclusiones sobre la capacidad del modelo entrenado. En el cuaderno se deben incluir los experimentos más relevantes.\n",
        "\n",
        "Como conjunto de test se debe usar el conjunto de test íntegro que provee el conjunto de datos.\n",
        "\n",
        "Se debe incluir una comparación de tiempos de entrenamiento en CPU y GPU.\n",
        "\n",
        "El cuaderno entregado debe llamarse ApellidosNombrePractica2Ejercicio1.ipynb\n",
        "\n",
        "Consejos:\n",
        "*  Cambiar el optimizador SGD por Adam. Lo veremos en clase próximamente :)\n",
        "*  Normalizar los colores de las imágenes al rango [0,1].\n"
      ]
    },
    {
      "cell_type": "code",
      "execution_count": 1,
      "metadata": {},
      "outputs": [],
      "source": [
        "import torch\n",
        "import torch.nn as nn\n",
        "import math\n",
        "import cv2\n",
        "import matplotlib.pyplot as plt\n",
        "import numpy as np\n",
        "from torch.utils.data import Dataset, DataLoader\n",
        "from tqdm import tqdm\n",
        "import torch.optim as optim\n",
        "import torchvision\n",
        "import torchvision.transforms as transforms\n",
        "from torchvision import datasets, transforms\n",
        "import time\n",
        "from torch.utils.data import TensorDataset"
      ]
    },
    {
      "cell_type": "code",
      "execution_count": 6,
      "metadata": {},
      "outputs": [],
      "source": [
        "def split_dataset(dataset, split_share=0.5):\n",
        "  \"\"\"\n",
        "  Devuelve dos subconjuntos del dataset. split_share define cuántos ejemplos irán al\n",
        "  primer subconjunto. El resto irán al segundo.\n",
        "  \"\"\"\n",
        "  mask_indices_to_first_subset = torch.rand(len(dataset))<=split_share\n",
        "  indices_first_subset = [i for i, (_, _) in enumerate(dataset) if mask_indices_to_first_subset[i]]\n",
        "  indices_second_subset = [i for i, (_, _) in enumerate(dataset) if not mask_indices_to_first_subset[i]]\n",
        "\n",
        "  first_subset = torch.utils.data.Subset(dataset, indices_first_subset)\n",
        "  second_subset = torch.utils.data.Subset(dataset, indices_second_subset)\n",
        "\n",
        "  return first_subset, second_subset\n",
        "\n",
        "class Early_Stop():\n",
        "  def __init__(self, patience=5, delta=0):\n",
        "    self.patience = patience\n",
        "    self.delta = delta\n",
        "    self.best_val_loss = None\n",
        "    self.no_val_improvement_times = 0\n",
        "    self.stop = False\n",
        "\n",
        "  def check_stop(self, val_loss):\n",
        "    if self.best_val_loss is None or (val_loss + self.delta) < self.best_val_loss:\n",
        "      self.best_val_loss = val_loss\n",
        "      self.no_val_improvement_times = 0\n",
        "    else:\n",
        "      self.no_val_improvement_times += 1\n",
        "      self.stop = self.no_val_improvement_times >= self.patience\n",
        "\n",
        "class XYDataset(Dataset):\n",
        "    def __init__(self, x, y):\n",
        "        self.x = x\n",
        "        self.y = y\n",
        "\n",
        "    def __len__(self):\n",
        "        return self.x.numel()\n",
        "\n",
        "    def __getitem__(self, idx):\n",
        "        return self.x[idx].float(), self.y[idx].float()\n",
        "    \n",
        "\n",
        "# Loop de entrenamiento con validación\n",
        "\n",
        "def learning_loop_for_classification_with_early_stopping(train_dataloader, val_dataloader, model, epochs, loss_fn, learning_rate, optimizer, validation_freq, early_stop, device):\n",
        "  epoch_loss_list = []\n",
        "  val_loss_list = []\n",
        "  val_acc_list = []\n",
        "\n",
        "  opt = optimizer(\n",
        "    model.parameters(), \n",
        "    lr=learning_rate, \n",
        "    weight_decay=1e-4\n",
        "    )\n",
        "\n",
        "  with tqdm(range(epochs), desc=\"epoch:\") as pbar:\n",
        "    for epoch in pbar:\n",
        "      steps_loss_list = []\n",
        "      for x_true, y_true in train_dataloader:\n",
        "        x_true, y_true = x_true.to(device), y_true.to(device)\n",
        "        y_pred = model(x_true)                              # Forward\n",
        "        opt.zero_grad()\n",
        "        loss = loss_fn(y_pred, y_true)\n",
        "        loss.backward()                                     # Backward\n",
        "        steps_loss_list.append(loss.clone().detach())\n",
        "        opt.step()\n",
        "      train_loss = torch.tensor(steps_loss_list).mean()\n",
        "      epoch_loss_list.append(train_loss)\n",
        "      pbar.set_postfix(loss=f\"{train_loss}\")\n",
        "\n",
        "      if epoch%validation_freq==0:\n",
        "        val_step_loss_list = []\n",
        "        val_correct_answers = 0\n",
        "        val_set_size = 0 \n",
        "        with torch.no_grad():\n",
        "          for x_val_true, y_val_true in val_dataloader:\n",
        "            x_val_true, y_val_true = x_val_true.to(device), y_val_true.to(device)\n",
        "            y_val_pred = model(x_val_true)\n",
        "\n",
        "            loss_val = loss_fn(y_val_pred, y_val_true)\n",
        "            val_step_loss_list.append(loss_val)\n",
        "\n",
        "            correct_answers = torch.sum(y_val_true==torch.argmax(y_val_pred, dim=-1))\n",
        "            val_correct_answers += correct_answers\n",
        "            val_set_size += y_val_true.numel()\n",
        "\n",
        "          val_loss = torch.tensor(val_step_loss_list).mean()\n",
        "          val_loss_list.append(val_loss)\n",
        "          val_acc_list.append(val_correct_answers/float(val_set_size))\n",
        "\n",
        "        early_stop.check_stop(val_loss)\n",
        "        if early_stop.stop:\n",
        "          print(\"Early Stop.\")\n",
        "          break\n",
        "\n",
        "  return model, epoch_loss_list, val_loss_list, val_acc_list"
      ]
    },
    {
      "cell_type": "code",
      "execution_count": 3,
      "metadata": {},
      "outputs": [
        {
          "name": "stdout",
          "output_type": "stream",
          "text": [
            "Cargando datasets...\n"
          ]
        },
        {
          "name": "stderr",
          "output_type": "stream",
          "text": [
            "100%|██████████| 170M/170M [00:36<00:00, 4.69MB/s] \n"
          ]
        },
        {
          "name": "stdout",
          "output_type": "stream",
          "text": [
            "Datasets cargados\n",
            "Tamaño del conjunto de entrenamiento: 39904\n",
            "Tamaño del conjunto de validación: 10096\n",
            "Tamaño del conjunto de test: 10000\n"
          ]
        }
      ],
      "source": [
        "workpath = 'C:/Users/jegag/Desktop/Phyton/Practicas IA/AI_model-training/data'\n",
        "print(\"Cargando datasets...\")\n",
        "train_dataset = torchvision.datasets.CIFAR10(root=workpath, train=True, download=True, transform=transforms.ToTensor())\n",
        "test_dataset = torchvision.datasets.CIFAR10(root=workpath, train=False, download=True, transform=transforms.ToTensor())\n",
        "\n",
        "train_dataset, val_dataset = split_dataset(train_dataset, split_share=0.8)\n",
        "print(\"Datasets cargados\")\n",
        "\n",
        "\n",
        "print(f'Tamaño del conjunto de entrenamiento: {len(train_dataset)}')\n",
        "print(f'Tamaño del conjunto de validación: {len(val_dataset)}')\n",
        "print(f'Tamaño del conjunto de test: {len(test_dataset)}')"
      ]
    },
    {
      "cell_type": "code",
      "execution_count": 4,
      "metadata": {},
      "outputs": [
        {
          "name": "stdout",
          "output_type": "stream",
          "text": [
            "Disponibilidad de CUDA: False\n",
            "Versión de CUDA: None\n",
            "Usando dispositivo: cpu\n"
          ]
        },
        {
          "name": "stderr",
          "output_type": "stream",
          "text": [
            "epoch::  36%|███▌      | 18/50 [05:54<10:29, 19.68s/it, loss=1.2465033531188965]"
          ]
        },
        {
          "name": "stdout",
          "output_type": "stream",
          "text": [
            "Early Stop.\n"
          ]
        },
        {
          "name": "stderr",
          "output_type": "stream",
          "text": [
            "\n"
          ]
        },
        {
          "name": "stdout",
          "output_type": "stream",
          "text": [
            "Error absoluto medio final en el conjunto de test: 1.4468\n"
          ]
        }
      ],
      "source": [
        "print(f\"Disponibilidad de CUDA: {torch.cuda.is_available()}\")\n",
        "print(f\"Versión de CUDA: {torch.version.cuda if torch.cuda.is_available() else None}\")\n",
        "device = torch.device('cuda' if torch.cuda.is_available() else 'cpu')\n",
        "print(f'Usando dispositivo: {device}')\n",
        "\n",
        "\n",
        "batch_size = 64\n",
        "train_loader = DataLoader(train_dataset, batch_size=batch_size, shuffle=True)\n",
        "val_loader = DataLoader(val_dataset, batch_size=batch_size, shuffle=False)\n",
        "test_loader = DataLoader(test_dataset, batch_size=batch_size, shuffle=False)\n",
        "\n",
        "\n",
        "model = torch.nn.Sequential(\n",
        "    torch.nn.Flatten(),\n",
        "    torch.nn.Linear(3*32*32, 128),\n",
        "    torch.nn.LeakyReLU(),\n",
        "    torch.nn.Linear(128, 128),\n",
        "    torch.nn.LeakyReLU(),\n",
        "    torch.nn.Linear(128, 128),\n",
        "    torch.nn.LeakyReLU(),\n",
        "    torch.nn.Linear(128, 10),\n",
        ")\n",
        "\n",
        "\n",
        "model.to(device)\n",
        "\n",
        "epochs = 50\n",
        "loss_fn = nn.CrossEntropyLoss()\n",
        "optimizer = optim.Adam\n",
        "learning_rate = 1e-3\n",
        "patience = 5\n",
        "delta = 0.01\n",
        "early_stop = Early_Stop(patience = patience,\n",
        "                        delta = delta)\n",
        "\n",
        "    \n",
        "# Entrenamiento en CPU/GPU\n",
        "\n",
        "model, train_losses, val_losses, val_accs = learning_loop_for_classification_with_early_stopping(train_loader, val_loader, model, epochs, loss_fn, learning_rate, optimizer=optimizer, validation_freq=1, early_stop=early_stop, device=device)\n",
        "\n",
        "\n",
        "model.eval()\n",
        "test_losses = []\n",
        "with torch.no_grad():\n",
        "    for x_test_batch, y_test_batch in test_loader:\n",
        "        x_test_batch, y_test_batch = x_test_batch.to(device), y_test_batch.to(device)  \n",
        "        y_pred_batch = model(x_test_batch)\n",
        "        loss = loss_fn(y_pred_batch, y_test_batch)\n",
        "        test_losses.append(loss.item())\n",
        "\n",
        "# Calculamos el error medio absoluto final en el conjunto de test\n",
        "mean_test_error = sum(test_losses) / len(test_losses)\n",
        "print(f\"Error absoluto medio final en el conjunto de test: {mean_test_error:.4f}\")\n",
        "\n"
      ]
    },
    {
      "cell_type": "code",
      "execution_count": 8,
      "metadata": {},
      "outputs": [
        {
          "data": {
            "image/png": "[encoded data removed]",
            "text/plain": [
              "<Figure size 1000x500 with 1 Axes>"
            ]
          },
          "metadata": {},
          "output_type": "display_data"
        }
      ],
      "source": [
        "# Mueve los resultados a la CPU justo antes de graficar\n",
        "if device == 'cuda':\n",
        "    train_losses = [t.cpu().item() for t in train_losses]\n",
        "    val_losses = [t.cpu().item() for t in val_losses]\n",
        "    val_accs = [t.cpu().item() for t in val_accs]\n",
        "\n",
        "plt.figure(figsize=(10, 5))\n",
        "plt.plot(train_losses, label='Pérdida de Entrenamiento')\n",
        "plt.plot(val_losses, label='Pérdida de Validación')\n",
        "plt.plot(val_accs, label='Accuracy')\n",
        "plt.title('Evolución de la Pérdida')\n",
        "plt.xlabel('Épocas')\n",
        "plt.ylabel('Pérdida (Cross-Entropy)')\n",
        "plt.legend()\n",
        "plt.grid(True)\n",
        "plt.show()"
      ]
    }
  ],
  "metadata": {
    "colab": {
      "provenance": []
    },
    "kernelspec": {
      "display_name": ".venv",
      "language": "python",
      "name": "python3"
    },
    "language_info": {
      "codemirror_mode": {
        "name": "ipython",
        "version": 3
      },
      "file_extension": ".py",
      "mimetype": "text/x-python",
      "name": "python",
      "nbconvert_exporter": "python",
      "pygments_lexer": "ipython3",
      "version": "3.13.9"
    }
  },
  "nbformat": 4,
  "nbformat_minor": 0
}
